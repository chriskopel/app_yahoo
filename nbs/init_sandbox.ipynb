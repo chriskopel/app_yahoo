{
 "cells": [
  {
   "cell_type": "markdown",
   "metadata": {},
   "source": [
    "## Try requests and bs4"
   ]
  },
  {
   "cell_type": "code",
   "execution_count": 2,
   "metadata": {},
   "outputs": [],
   "source": [
    "import requests\n",
    "from bs4 import BeautifulSoup"
   ]
  },
  {
   "cell_type": "code",
   "execution_count": 3,
   "metadata": {},
   "outputs": [],
   "source": [
    "app_url = 'https://finance.yahoo.com/quote/APP/holders/'"
   ]
  },
  {
   "cell_type": "code",
   "execution_count": 4,
   "metadata": {},
   "outputs": [],
   "source": [
    "agent = 'Mozilla/5.0 (Windows NT 10.0; Windows; x64) AppleWebKit/537.36 (KHTML, like Gecko) Chrome/103.0.5060.114 Safari/537.36'"
   ]
  },
  {
   "cell_type": "code",
   "execution_count": 5,
   "metadata": {},
   "outputs": [
    {
     "data": {
      "text/plain": [
       "<Response [200]>"
      ]
     },
     "execution_count": 5,
     "metadata": {},
     "output_type": "execute_result"
    }
   ],
   "source": [
    "response = requests.get(app_url, headers={'User-Agent': agent})\n",
    "response"
   ]
  },
  {
   "cell_type": "code",
   "execution_count": 6,
   "metadata": {},
   "outputs": [],
   "source": [
    "soup = BeautifulSoup(response.text, 'html.parser')"
   ]
  },
  {
   "cell_type": "code",
   "execution_count": 7,
   "metadata": {},
   "outputs": [],
   "source": [
    "# Locate the section containing the \"Major Holders\" table by the section's `data-testid` attribute\n",
    "section = soup.find('section', {'data-testid': 'holders-major-holders-table'})"
   ]
  },
  {
   "cell_type": "code",
   "execution_count": 8,
   "metadata": {},
   "outputs": [
    {
     "data": {
      "text/plain": [
       "[<td class=\"majorHolders yf-1toamfi\">27.69% </td>,\n",
       " <td class=\"majorHolders yf-1toamfi\">% of Shares Held by All Insider </td>,\n",
       " <td class=\"majorHolders yf-1toamfi\">60.85% </td>,\n",
       " <td class=\"majorHolders yf-1toamfi\">% of Shares Held by Institutions </td>,\n",
       " <td class=\"majorHolders yf-1toamfi\">84.15% </td>,\n",
       " <td class=\"majorHolders yf-1toamfi\">% of Float Held by Institutions </td>,\n",
       " <td class=\"majorHolders yf-1toamfi\">861 </td>,\n",
       " <td class=\"majorHolders yf-1toamfi\">Number of Institutions Holding Shares </td>]"
      ]
     },
     "execution_count": 8,
     "metadata": {},
     "output_type": "execute_result"
    }
   ],
   "source": [
    "# Find all 'td' elements within the section to extract the data\n",
    "td_elements = section.find_all('td', class_='majorHolders')\n",
    "td_elements"
   ]
  },
  {
   "cell_type": "code",
   "execution_count": 9,
   "metadata": {},
   "outputs": [],
   "source": [
    "# Initialize an empty dictionary\n",
    "holders_dict = {}\n",
    "\n",
    "# Iterate through the list in pairs (numeric value and its corresponding label)\n",
    "for i in range(0, len(td_elements), 2):\n",
    "    # Strip any extra characters and clean up the value\n",
    "    value = td_elements[i].text.strip().replace('%', '')\n",
    "    \n",
    "    # Convert the value to float or integer as appropriate\n",
    "    if '.' in value:\n",
    "        value = float(value)\n",
    "    else:\n",
    "        value = int(value)\n",
    "    \n",
    "    # Get the corresponding key (label)\n",
    "    label = td_elements[i+1].text.strip()\n",
    "    \n",
    "    # Update the dictionary\n",
    "    holders_dict[label] = value"
   ]
  },
  {
   "cell_type": "code",
   "execution_count": 10,
   "metadata": {},
   "outputs": [
    {
     "data": {
      "text/plain": [
       "{'% of Shares Held by All Insider': 27.69,\n",
       " '% of Shares Held by Institutions': 60.85,\n",
       " '% of Float Held by Institutions': 84.15,\n",
       " 'Number of Institutions Holding Shares': 861}"
      ]
     },
     "execution_count": 10,
     "metadata": {},
     "output_type": "execute_result"
    }
   ],
   "source": [
    "holders_dict"
   ]
  },
  {
   "cell_type": "markdown",
   "metadata": {},
   "source": [
    "## Send to gsheet"
   ]
  },
  {
   "cell_type": "markdown",
   "metadata": {},
   "source": [
    "### Test gspread connection"
   ]
  },
  {
   "cell_type": "code",
   "execution_count": 11,
   "metadata": {},
   "outputs": [
    {
     "name": "stdout",
     "output_type": "stream",
     "text": [
      "[['% of Shares Held by All Insider']]\n"
     ]
    }
   ],
   "source": [
    "import gspread\n",
    "\n",
    "sa_path = r\"C:\\Users\\Owner\\AppData\\Local\\Programs\\Python\\Python310\\Lib\\site-packages\\gspread\\service_account.json\"\n",
    "gc = gspread.service_account(filename=sa_path)\n",
    "\n",
    "sh = gc.open(\"APP Ownership\")\n",
    "\n",
    "print(sh.sheet1.get('A1'))"
   ]
  },
  {
   "cell_type": "markdown",
   "metadata": {},
   "source": [
    "### Send data to spreadsheet"
   ]
  },
  {
   "cell_type": "code",
   "execution_count": 30,
   "metadata": {},
   "outputs": [],
   "source": [
    "import gspread\n",
    "from datetime import datetime\n",
    "\n",
    "sa_path = r\"C:\\Users\\Owner\\AppData\\Local\\Programs\\Python\\Python310\\Lib\\site-packages\\gspread\\service_account.json\"\n",
    "gc = gspread.service_account(filename=sa_path)"
   ]
  },
  {
   "cell_type": "code",
   "execution_count": 31,
   "metadata": {},
   "outputs": [],
   "source": [
    "# Open the sheet\n",
    "sh = gc.open(\"APP Ownership\")\n",
    "worksheet = sh.worksheet(\"Data\")  # Access the \"Data\" sheet"
   ]
  },
  {
   "cell_type": "markdown",
   "metadata": {},
   "source": [
    "#### next available row"
   ]
  },
  {
   "cell_type": "code",
   "execution_count": 32,
   "metadata": {},
   "outputs": [],
   "source": [
    "# Function to find the next empty row\n",
    "def next_available_row(worksheet):\n",
    "    str_list = list(filter(None, worksheet.col_values(1)))  # Get the values in column A\n",
    "    return len(str_list) + 1  # Find the next empty row by checking how many rows are filled"
   ]
  },
  {
   "cell_type": "code",
   "execution_count": 42,
   "metadata": {},
   "outputs": [],
   "source": [
    "# Extract the values in the correct order (A, B, C, D)\n",
    "values = [\n",
    "    holders_dict[\"% of Shares Held by All Insider\"],\n",
    "    holders_dict[\"% of Shares Held by Institutions\"],\n",
    "    holders_dict[\"% of Float Held by Institutions\"],\n",
    "    holders_dict[\"Number of Institutions Holding Shares\"],\n",
    "    datetime.now().strftime(\"%Y/%m/%d %H:%M:%S\") + \" MT\"\n",
    "]"
   ]
  },
  {
   "cell_type": "code",
   "execution_count": 39,
   "metadata": {},
   "outputs": [],
   "source": [
    "# Find the next available row\n",
    "next_row = next_available_row(worksheet)"
   ]
  },
  {
   "cell_type": "code",
   "execution_count": 40,
   "metadata": {},
   "outputs": [
    {
     "name": "stderr",
     "output_type": "stream",
     "text": [
      "C:\\Users\\Owner\\AppData\\Local\\Temp\\ipykernel_908\\1879940049.py:2: DeprecationWarning: The order of arguments in worksheet.update() has changed. Please pass values first and range_name secondor used named arguments (range_name=, values=)\n",
      "  worksheet.update(f'A{next_row}:E{next_row}', [values])\n"
     ]
    },
    {
     "data": {
      "text/plain": [
       "{'spreadsheetId': '1WLCqIuF9P7_ypl_hF-9QtwaFr2-jjl0DDNgpB9HfB7A',\n",
       " 'updatedRange': 'Data!A2:E2',\n",
       " 'updatedRows': 1,\n",
       " 'updatedColumns': 5,\n",
       " 'updatedCells': 5}"
      ]
     },
     "execution_count": 40,
     "metadata": {},
     "output_type": "execute_result"
    }
   ],
   "source": [
    "# Update the next empty row with the values in columns A to D\n",
    "worksheet.update(f'A{next_row}:E{next_row}', [values])"
   ]
  },
  {
   "cell_type": "markdown",
   "metadata": {},
   "source": [
    "#### insert a new row, move others down"
   ]
  },
  {
   "cell_type": "code",
   "execution_count": 44,
   "metadata": {},
   "outputs": [
    {
     "data": {
      "text/plain": [
       "{'spreadsheetId': '1WLCqIuF9P7_ypl_hF-9QtwaFr2-jjl0DDNgpB9HfB7A',\n",
       " 'updates': {'spreadsheetId': '1WLCqIuF9P7_ypl_hF-9QtwaFr2-jjl0DDNgpB9HfB7A',\n",
       "  'updatedRange': 'Data!A2'}}"
      ]
     },
     "execution_count": 44,
     "metadata": {},
     "output_type": "execute_result"
    }
   ],
   "source": [
    "# Insert a new row at position 2 (shifts existing row 2 and below down)\n",
    "worksheet.insert_row([], 2)"
   ]
  },
  {
   "cell_type": "code",
   "execution_count": 46,
   "metadata": {},
   "outputs": [],
   "source": [
    "# Extract the values in the correct order (A, B, C, D)\n",
    "values = [\n",
    "    holders_dict[\"% of Shares Held by All Insider\"],\n",
    "    holders_dict[\"% of Shares Held by Institutions\"],\n",
    "    holders_dict[\"% of Float Held by Institutions\"],\n",
    "    holders_dict[\"Number of Institutions Holding Shares\"],\n",
    "    datetime.now().strftime(\"%Y/%m/%d %H:%M:%S\") + \" MT\"\n",
    "]"
   ]
  },
  {
   "cell_type": "code",
   "execution_count": 47,
   "metadata": {},
   "outputs": [
    {
     "name": "stderr",
     "output_type": "stream",
     "text": [
      "C:\\Users\\Owner\\AppData\\Local\\Temp\\ipykernel_908\\2866740410.py:2: DeprecationWarning: The order of arguments in worksheet.update() has changed. Please pass values first and range_name secondor used named arguments (range_name=, values=)\n",
      "  worksheet.update('A2:E2', [values])\n"
     ]
    },
    {
     "data": {
      "text/plain": [
       "{'spreadsheetId': '1WLCqIuF9P7_ypl_hF-9QtwaFr2-jjl0DDNgpB9HfB7A',\n",
       " 'updatedRange': 'Data!A2:E2',\n",
       " 'updatedRows': 1,\n",
       " 'updatedColumns': 5,\n",
       " 'updatedCells': 5}"
      ]
     },
     "execution_count": 47,
     "metadata": {},
     "output_type": "execute_result"
    }
   ],
   "source": [
    "# Update row 2 with the new data in columns A to D\n",
    "worksheet.update('A2:E2', [values])"
   ]
  },
  {
   "cell_type": "code",
   "execution_count": null,
   "metadata": {},
   "outputs": [],
   "source": []
  }
 ],
 "metadata": {
  "kernelspec": {
   "display_name": "Python 3",
   "language": "python",
   "name": "python3"
  },
  "language_info": {
   "codemirror_mode": {
    "name": "ipython",
    "version": 3
   },
   "file_extension": ".py",
   "mimetype": "text/x-python",
   "name": "python",
   "nbconvert_exporter": "python",
   "pygments_lexer": "ipython3",
   "version": "3.10.6"
  }
 },
 "nbformat": 4,
 "nbformat_minor": 2
}
