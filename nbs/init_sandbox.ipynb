{
 "cells": [
  {
   "cell_type": "markdown",
   "metadata": {},
   "source": [
    "## Try requests and bs4"
   ]
  },
  {
   "cell_type": "code",
   "execution_count": 1,
   "metadata": {},
   "outputs": [],
   "source": [
    "import requests\n",
    "from bs4 import BeautifulSoup"
   ]
  },
  {
   "cell_type": "code",
   "execution_count": 3,
   "metadata": {},
   "outputs": [],
   "source": [
    "app_url = 'https://finance.yahoo.com/quote/APP/holders/'"
   ]
  },
  {
   "cell_type": "code",
   "execution_count": 2,
   "metadata": {},
   "outputs": [],
   "source": [
    "agent = 'Mozilla/5.0 (Windows NT 10.0; Windows; x64) AppleWebKit/537.36 (KHTML, like Gecko) Chrome/103.0.5060.114 Safari/537.36'"
   ]
  },
  {
   "cell_type": "code",
   "execution_count": 4,
   "metadata": {},
   "outputs": [
    {
     "data": {
      "text/plain": [
       "<Response [200]>"
      ]
     },
     "execution_count": 4,
     "metadata": {},
     "output_type": "execute_result"
    }
   ],
   "source": [
    "response = requests.get(app_url, headers={'User-Agent': agent})\n",
    "response"
   ]
  },
  {
   "cell_type": "code",
   "execution_count": 5,
   "metadata": {},
   "outputs": [],
   "source": [
    "soup = BeautifulSoup(response.text, 'html.parser')"
   ]
  },
  {
   "cell_type": "code",
   "execution_count": 14,
   "metadata": {},
   "outputs": [],
   "source": [
    "# Locate the section containing the \"Major Holders\" table by the section's `data-testid` attribute\n",
    "section = soup.find('section', {'data-testid': 'holders-major-holders-table'})"
   ]
  },
  {
   "cell_type": "code",
   "execution_count": 11,
   "metadata": {},
   "outputs": [
    {
     "data": {
      "text/plain": [
       "[<td class=\"majorHolders yf-1toamfi\">27.69% </td>,\n",
       " <td class=\"majorHolders yf-1toamfi\">% of Shares Held by All Insider </td>,\n",
       " <td class=\"majorHolders yf-1toamfi\">60.85% </td>,\n",
       " <td class=\"majorHolders yf-1toamfi\">% of Shares Held by Institutions </td>,\n",
       " <td class=\"majorHolders yf-1toamfi\">84.15% </td>,\n",
       " <td class=\"majorHolders yf-1toamfi\">% of Float Held by Institutions </td>,\n",
       " <td class=\"majorHolders yf-1toamfi\">861 </td>,\n",
       " <td class=\"majorHolders yf-1toamfi\">Number of Institutions Holding Shares </td>]"
      ]
     },
     "execution_count": 11,
     "metadata": {},
     "output_type": "execute_result"
    }
   ],
   "source": [
    "# Find all 'td' elements within the section to extract the data\n",
    "td_elements = section.find_all('td', class_='majorHolders')\n",
    "td_elements"
   ]
  },
  {
   "cell_type": "code",
   "execution_count": 15,
   "metadata": {},
   "outputs": [],
   "source": [
    "# Initialize an empty dictionary\n",
    "holders_dict = {}\n",
    "\n",
    "# Iterate through the list in pairs (numeric value and its corresponding label)\n",
    "for i in range(0, len(td_elements), 2):\n",
    "    # Strip any extra characters and clean up the value\n",
    "    value = td_elements[i].text.strip().replace('%', '')\n",
    "    \n",
    "    # Convert the value to float or integer as appropriate\n",
    "    if '.' in value:\n",
    "        value = float(value)\n",
    "    else:\n",
    "        value = int(value)\n",
    "    \n",
    "    # Get the corresponding key (label)\n",
    "    label = td_elements[i+1].text.strip()\n",
    "    \n",
    "    # Update the dictionary\n",
    "    holders_dict[label] = value"
   ]
  },
  {
   "cell_type": "code",
   "execution_count": 17,
   "metadata": {},
   "outputs": [
    {
     "data": {
      "text/plain": [
       "{'% of Shares Held by All Insider': 27.69,\n",
       " '% of Shares Held by Institutions': 60.85,\n",
       " '% of Float Held by Institutions': 84.15,\n",
       " 'Number of Institutions Holding Shares': 861}"
      ]
     },
     "execution_count": 17,
     "metadata": {},
     "output_type": "execute_result"
    }
   ],
   "source": [
    "holders_dict"
   ]
  },
  {
   "cell_type": "code",
   "execution_count": null,
   "metadata": {},
   "outputs": [],
   "source": []
  }
 ],
 "metadata": {
  "kernelspec": {
   "display_name": "Python 3",
   "language": "python",
   "name": "python3"
  },
  "language_info": {
   "codemirror_mode": {
    "name": "ipython",
    "version": 3
   },
   "file_extension": ".py",
   "mimetype": "text/x-python",
   "name": "python",
   "nbconvert_exporter": "python",
   "pygments_lexer": "ipython3",
   "version": "3.10.6"
  }
 },
 "nbformat": 4,
 "nbformat_minor": 2
}
