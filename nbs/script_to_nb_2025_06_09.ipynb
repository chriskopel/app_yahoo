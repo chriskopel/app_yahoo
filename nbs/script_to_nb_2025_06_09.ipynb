{
 "cells": [
  {
   "cell_type": "code",
   "execution_count": null,
   "metadata": {},
   "outputs": [
    {
     "name": "stderr",
     "output_type": "stream",
     "text": [
      "/Users/chriskopel/Library/Python/3.9/lib/python/site-packages/urllib3/__init__.py:35: NotOpenSSLWarning: urllib3 v2 only supports OpenSSL 1.1.1+, currently the 'ssl' module is compiled with 'LibreSSL 2.8.3'. See: https://github.com/urllib3/urllib3/issues/3020\n",
      "  warnings.warn(\n"
     ]
    }
   ],
   "source": [
    "import pandas as pd\n",
    "\n",
    "import os\n",
    "import platform\n",
    "from selenium import webdriver\n",
    "from selenium.webdriver.chrome.service import Service\n",
    "from selenium.webdriver.chrome.options import Options\n",
    "\n",
    "from bs4 import BeautifulSoup\n",
    "\n",
    "from datetime import datetime\n",
    "\n",
    "import gspread"
   ]
  },
  {
   "cell_type": "code",
   "execution_count": 5,
   "metadata": {},
   "outputs": [],
   "source": [
    "# Get the ChromeDriver path from your environment variable\n",
    "chrome_driver_path = os.getenv('chrome_driver_path')\n",
    "app_url = \"https://finance.yahoo.com/quote/APP/holders/\"\n",
    "\n",
    "# Set up Chrome options for headless mode\n",
    "options = Options()\n",
    "options.add_argument('--headless') # Run in headless mode ('--headless=new')\n",
    "options.add_argument(\"--window-size=1920,1080\")  # Optional: set the window size for better layout handling\n",
    "options.add_argument(\"--no-sandbox\")  # Required for some environments\n",
    "options.add_argument(\"--disable-dev-shm-usage\")  # Optional: improve stability in headless mode\n",
    "\n",
    "# Setup WebDriver\n",
    "service = Service(chrome_driver_path)  # Use the path from environment variable\n",
    "driver = webdriver.Chrome(service=service, options=options)\n",
    "\n",
    "# Open the page\n",
    "driver.get(app_url)"
   ]
  },
  {
   "cell_type": "code",
   "execution_count": 6,
   "metadata": {},
   "outputs": [],
   "source": [
    "# Now proceed with your scraping task\n",
    "soup = BeautifulSoup(driver.page_source, 'html.parser')\n",
    "\n",
    "# Close out\n",
    "driver.quit()\n",
    "\n",
    "\n",
    "## Dissect\n",
    "# Locate the section containing the \"Major Holders\" table by the section's `data-testid` attribute\n",
    "section = soup.find('section', {'data-testid': 'holders-major-holders-table'})\n",
    "# Find all 'td' elements within the section to extract the data\n",
    "td_elements = section.find_all('td', class_='majorHolders')\n",
    "\n",
    "## Load dict\n",
    "# Initialize an empty dictionary\n",
    "holders_dict = {}\n",
    "\n",
    "# Iterate through the list in pairs (numeric value and its corresponding label)\n",
    "for i in range(0, len(td_elements), 2):\n",
    "    # Strip any extra characters and clean up the value\n",
    "    value = td_elements[i].text.strip().replace('%', '').replace(',','')\n",
    "    \n",
    "    # Convert the value to float or integer as appropriate\n",
    "    if '.' in value:\n",
    "        value = float(value)\n",
    "    else:\n",
    "        value = int(value)\n",
    "    \n",
    "    # Get the corresponding key (label)\n",
    "    label = td_elements[i+1].text.strip()\n",
    "    \n",
    "    # Update the dictionary\n",
    "    holders_dict[label] = value\n",
    "\n",
    "## Stock Price\n",
    "# Look for the `fin-streamer` tag with both `data-field=\"regularMarketPrice\"` and `data-symbol=\"APP\"`\n",
    "price_element = soup.find('fin-streamer', {'data-field': 'regularMarketPrice', 'data-symbol': 'APP'}) # changed 2025-01-12 # changed 2025-01-12 # changed back on 2025-03-02 (below stopped working but this worked again)\n",
    "# # Extract the value from the 'data-value' attribute\n",
    "stock_price = float(price_element['data-value']) # changed 2025-01-12 # changed back on 2025-03-02 (below stopped working but this worked again)\n",
    "\n",
    "# stock_price = float(soup.find('span', {'data-testid': 'qsp-price'}).text.strip()) # reverted to the above on 2025-03-02 (this stopped working but the above worked again)\n",
    "\n",
    "# Extract the values in the correct order (A, B, C, D, E, F)\n",
    "values = [\n",
    "    stock_price,\n",
    "    holders_dict[\"% of Shares Held by All Insider\"],\n",
    "    holders_dict[\"% of Shares Held by Institutions\"],\n",
    "    holders_dict[\"% of Float Held by Institutions\"],\n",
    "    holders_dict[\"Number of Institutions Holding Shares\"],\n",
    "    datetime.now().strftime(\"%Y/%m/%d %H:%M:%S\") + \" MT\"\n",
    "]"
   ]
  },
  {
   "cell_type": "code",
   "execution_count": null,
   "metadata": {},
   "outputs": [
    {
     "data": {
      "text/plain": [
       "{'spreadsheetId': '1WLCqIuF9P7_ypl_hF-9QtwaFr2-jjl0DDNgpB9HfB7A',\n",
       " 'updatedRange': 'Data!K2',\n",
       " 'updatedRows': 1,\n",
       " 'updatedColumns': 1,\n",
       " 'updatedCells': 1}"
      ]
     },
     "execution_count": 13,
     "metadata": {},
     "output_type": "execute_result"
    }
   ],
   "source": [
    "### Send to GSheet\n",
    "## Config details\n",
    "sa_path_windows = r\"C:\\Users\\Owner\\AppData\\Local\\Programs\\Python\\Python310\\Lib\\site-packages\\gspread\\service_account.json\"\n",
    "sa_path_mac = \"/Users/ckopel/Documents/keys/service_account.json\"\n",
    "sa_path_macair = \"/Users/chriskopel/Documents/keys/service_account.json\"\n",
    "sa_path = sa_path_windows if os.name == \"nt\" else sa_path_mac if os.name == \"posix\" else None\n",
    "sa_path = sa_path_macair if platform.machine() == 'arm64' else sa_path\n",
    "\n",
    "gc = gspread.service_account(filename=sa_path)\n",
    "\n",
    "\n",
    "## Open the sheet\n",
    "sh = gc.open(\"APP Ownership\")\n",
    "worksheet = sh.worksheet(\"Data\")  # Access the \"Data\" sheet\n",
    "\n",
    "\n",
    "# Insert a new row at position 2 (shifts existing row 2 and below down)\n",
    "worksheet.insert_row([], 2)\n",
    "\n",
    "# Update row 2 with the new data in columns A to F\n",
    "worksheet.update([values], 'A2:F2')\n",
    "\n",
    "# Add formulas individually to columns F:I for the new row using update_acell (all together came through as a string in the gsheet)\n",
    "worksheet.update_acell('G2', '=IFERROR(((A2-A3)/A3),\"\")')\n",
    "worksheet.update_acell('H2', '=IFERROR(((B2-B3)/B3),\"\")')\n",
    "worksheet.update_acell('I2', '=IFERROR(((C2-C3)/C3),\"\")')\n",
    "worksheet.update_acell('J2', '=IFERROR(((D2-D3)/D3),\"\")')\n",
    "worksheet.update_acell('K2', '=IFERROR(((E2-E3)/E3),\"\")')"
   ]
  }
 ],
 "metadata": {
  "kernelspec": {
   "display_name": "Python 3",
   "language": "python",
   "name": "python3"
  },
  "language_info": {
   "codemirror_mode": {
    "name": "ipython",
    "version": 3
   },
   "file_extension": ".py",
   "mimetype": "text/x-python",
   "name": "python",
   "nbconvert_exporter": "python",
   "pygments_lexer": "ipython3",
   "version": "3.9.6"
  }
 },
 "nbformat": 4,
 "nbformat_minor": 2
}
